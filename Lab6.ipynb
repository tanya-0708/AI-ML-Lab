{
 "cells": [
  {
   "cell_type": "markdown",
   "metadata": {},
   "source": [
    "Lab-6\n"
   ]
  },
  {
   "cell_type": "markdown",
   "metadata": {},
   "source": [
    "1. WAP to read a file and print the number of characters, words and lines it has"
   ]
  },
  {
   "cell_type": "code",
   "execution_count": 16,
   "metadata": {},
   "outputs": [
    {
     "name": "stdout",
     "output_type": "stream",
     "text": [
      "Lines: 3 Words: 12 Characters: 50\n"
     ]
    }
   ],
   "source": [
    "f = open(\"abc.txt.txt\",\"r\")\n",
    "c = 0\n",
    "w = 1\n",
    "l = 0\n",
    "for line in f:\n",
    "    l+=1\n",
    "    for word in line:\n",
    "        if(word==\" \" or word==\"\\n\"):\n",
    "            w+=1\n",
    "        else:\n",
    "            for char in word:\n",
    "                c+=1\n",
    "print(\"Lines:\",l,\"Words:\",w,\"Characters:\",c)\n",
    "f.close()"
   ]
  },
  {
   "cell_type": "markdown",
   "metadata": {},
   "source": [
    "2. WAP to copy contents of one file into another file"
   ]
  },
  {
   "cell_type": "code",
   "execution_count": 10,
   "metadata": {},
   "outputs": [],
   "source": [
    "f = open(\"abc.txt.txt\",\"r\")\n",
    "f1 = open(\"def.txt\",\"a\")\n",
    "\n",
    "for line in f:\n",
    "    f1.write(line)\n",
    "f.close()\n",
    "f1.close()"
   ]
  },
  {
   "cell_type": "markdown",
   "metadata": {},
   "source": [
    "3. WAP to read a file and count the number of vowels it has"
   ]
  },
  {
   "cell_type": "code",
   "execution_count": 15,
   "metadata": {},
   "outputs": [
    {
     "name": "stdout",
     "output_type": "stream",
     "text": [
      "Vowels: 19\n"
     ]
    }
   ],
   "source": [
    "f = open(\"abc.txt.txt\",\"r\")\n",
    "cv = 0\n",
    "for line in f:\n",
    "    for word in line:\n",
    "        if(word!=\" \" or word!=\"\\n\"):\n",
    "            for char in word:\n",
    "                if char in 'aeiou' or char in 'AEIOU':\n",
    "                    cv+=1\n",
    "print(\"Vowels:\",cv)\n",
    "f.close()"
   ]
  },
  {
   "cell_type": "markdown",
   "metadata": {},
   "source": [
    "4. WAP to read a file and count the number of articles it has"
   ]
  },
  {
   "cell_type": "code",
   "execution_count": 14,
   "metadata": {},
   "outputs": [
    {
     "name": "stdout",
     "output_type": "stream",
     "text": [
      "Articles 12\n"
     ]
    }
   ],
   "source": [
    "f = open(\"abc.txt.txt\",\"r\")\n",
    "w = 1\n",
    "for line in f:\n",
    "    for word in line:\n",
    "        if(word==\" \" or word==\"\\n\"):\n",
    "            w+=1\n",
    "print(\"Articles\",w)\n",
    "f.close()"
   ]
  },
  {
   "cell_type": "markdown",
   "metadata": {},
   "source": [
    "5. WAP to read a file reverse the contents of file (last line of the file should become the first line\n",
    "of the file)"
   ]
  },
  {
   "cell_type": "code",
   "execution_count": 18,
   "metadata": {},
   "outputs": [],
   "source": [
    "f2 = open(\"tan.txt\", \"w\") \n",
    "f = open(\"abc.txt.txt\", \"r\") \n",
    "data = f.readlines() \n",
    "data_2 = data[::-1] \n",
    "f2.writelines(data_2) \n",
    "f2.close() "
   ]
  },
  {
   "cell_type": "code",
   "execution_count": null,
   "metadata": {},
   "outputs": [],
   "source": []
  }
 ],
 "metadata": {
  "kernelspec": {
   "display_name": "Python 3",
   "language": "python",
   "name": "python3"
  },
  "language_info": {
   "codemirror_mode": {
    "name": "ipython",
    "version": 3
   },
   "file_extension": ".py",
   "mimetype": "text/x-python",
   "name": "python",
   "nbconvert_exporter": "python",
   "pygments_lexer": "ipython3",
   "version": "3.8.3"
  }
 },
 "nbformat": 4,
 "nbformat_minor": 4
}
