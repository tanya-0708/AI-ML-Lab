{
 "cells": [
  {
   "cell_type": "markdown",
   "metadata": {},
   "source": [
    "Lab -3\n",
    "WAP to check if a string is Palindrome or not"
   ]
  },
  {
   "cell_type": "code",
   "execution_count": 4,
   "metadata": {},
   "outputs": [
    {
     "name": "stdin",
     "output_type": "stream",
     "text": [
      " hannah\n"
     ]
    },
    {
     "name": "stdout",
     "output_type": "stream",
     "text": [
      "hannah is a palindrome\n"
     ]
    }
   ],
   "source": [
    "def checkPalin(s):\n",
    "    if(s==s[::-1]):\n",
    "        return True\n",
    "    else:\n",
    "        return False\n",
    "    \n",
    "str = input()\n",
    "ans = checkPalin(str)\n",
    "\n",
    "if(ans):\n",
    "    print(str,\"is a palindrome\")\n",
    "else:\n",
    "    print(str,\"is not a palindrome\")\n"
   ]
  },
  {
   "cell_type": "markdown",
   "metadata": {},
   "source": [
    "2. WAP that takes string as multiple words and then capitalize the first letter of each word and\n",
    "forms a new string\n"
   ]
  },
  {
   "cell_type": "code",
   "execution_count": 6,
   "metadata": {},
   "outputs": [
    {
     "name": "stdin",
     "output_type": "stream",
     "text": [
      "Enter a string: this is my world\n"
     ]
    },
    {
     "name": "stdout",
     "output_type": "stream",
     "text": [
      "Original String: this is my world\n",
      "Capitalized words String: This is my world\n"
     ]
    }
   ],
   "source": [
    "string = input(\"Enter a string:\")\n",
    "length = len(string)\n",
    "a = 0\n",
    "end = length\n",
    "string2=''             #empty string\n",
    "while a < length :\n",
    "    if a == 0:\n",
    "        string2 += string[0].upper()\n",
    "        a += 1\n",
    "    elif (string[a] =='' and string[a+1] !=''):\n",
    "        string2 += sting[a]\n",
    "        string1 += string[a+1].upper()\n",
    "        a += 2\n",
    "    else :\n",
    "        string2 += string[a]\n",
    "        a += 1\n",
    "print(\"Original String:\", string)\n",
    "print(\"Capitalized words String:\", string2)"
   ]
  },
  {
   "cell_type": "markdown",
   "metadata": {},
   "source": [
    "3. WAP to read a string and display the longest substring of the given string having just the\n",
    "consonants\n"
   ]
  },
  {
   "cell_type": "code",
   "execution_count": 9,
   "metadata": {},
   "outputs": [
    {
     "name": "stdin",
     "output_type": "stream",
     "text": [
      "Enter the string nyqrtabcdfghlaeio\n"
     ]
    },
    {
     "name": "stdout",
     "output_type": "stream",
     "text": [
      "bcdfghl is the longest substring with consonants\n"
     ]
    }
   ],
   "source": [
    "s = input(\"Enter the string\")\n",
    "mx = 0\n",
    "res = \"\"\n",
    "sub = \"\"\n",
    "n = len(s)\n",
    "for i in range(0,n):\n",
    "    if s[i] in 'aeiou' or s[i] in 'AEIOU':\n",
    "        if(len(sub)>mx):\n",
    "            res = sub\n",
    "            mx = len(sub)\n",
    "        sub = \"\"\n",
    "    else:\n",
    "        sub = sub+s[i]\n",
    "print(res,\"is the longest substring with consonants\")"
   ]
  },
  {
   "cell_type": "markdown",
   "metadata": {},
   "source": [
    "4. WAP to read a string and then prints a sting that capitalizes every other letter in the string\n",
    "e.g. goel becomes gOeL"
   ]
  },
  {
   "cell_type": "code",
   "execution_count": 10,
   "metadata": {},
   "outputs": [
    {
     "name": "stdin",
     "output_type": "stream",
     "text": [
      "Enter the string goel\n"
     ]
    },
    {
     "name": "stdout",
     "output_type": "stream",
     "text": [
      "gOeL the final string\n"
     ]
    }
   ],
   "source": [
    "s = input(\"Enter the string\")\n",
    "n = len(s)\n",
    "res = \"\"\n",
    "for i in range(0,n):\n",
    "    if(i%2==0):\n",
    "        res+=s[i]\n",
    "    else:\n",
    "        res+=s[i].upper()\n",
    "print(res,\"the final string\")"
   ]
  },
  {
   "cell_type": "markdown",
   "metadata": {},
   "source": [
    "5. WAP to read an email id of a person and vertify if it belongs to banasthali.in domain"
   ]
  },
  {
   "cell_type": "code",
   "execution_count": 16,
   "metadata": {},
   "outputs": [
    {
     "name": "stdin",
     "output_type": "stream",
     "text": [
      "Enter email id tanya@banasthali.in\n"
     ]
    },
    {
     "name": "stdout",
     "output_type": "stream",
     "text": [
      "['tanya', 'banasthali.in']\n",
      "Belongs to banasthali domain\n"
     ]
    }
   ],
   "source": [
    "import re\n",
    "s = input(\"Enter email id\")\n",
    "x = re.split(\"@\",s,1)\n",
    "print(x)\n",
    "if(re.search(\"banasthali.in\",x[1])):\n",
    "    print(\"Belongs to banasthali domain\")\n",
    "else:\n",
    "    print(\"doesnt belong\")"
   ]
  },
  {
   "cell_type": "markdown",
   "metadata": {},
   "source": [
    "6. WAP to count the number of vowels and consonants in an input string"
   ]
  },
  {
   "cell_type": "code",
   "execution_count": 17,
   "metadata": {},
   "outputs": [
    {
     "name": "stdin",
     "output_type": "stream",
     "text": [
      "Enter the string tanya\n"
     ]
    },
    {
     "name": "stdout",
     "output_type": "stream",
     "text": [
      "Number of vowels in tanya are 2\n",
      "Number of consonants in tanya are 3\n"
     ]
    }
   ],
   "source": [
    "s = input(\"Enter the string\")\n",
    "co = 0\n",
    "cv = 0\n",
    "n = len(s)\n",
    "for i in range(0,n):\n",
    "    if(s[i] in 'aeiou' or s[i] in 'AEIOU'):\n",
    "        cv = cv+1\n",
    "    else:\n",
    "        co = co+1\n",
    "print(\"Number of vowels in\",s,\"are\",cv)\n",
    "print(\"Number of consonants in\",s,\"are\",co)"
   ]
  },
  {
   "cell_type": "markdown",
   "metadata": {},
   "source": [
    "7. WAP to read a sentnece and count the articles it has"
   ]
  },
  {
   "cell_type": "code",
   "execution_count": 20,
   "metadata": {},
   "outputs": [
    {
     "name": "stdin",
     "output_type": "stream",
     "text": [
      "Enter the string hello you there\n"
     ]
    },
    {
     "name": "stdout",
     "output_type": "stream",
     "text": [
      "no of articles in hello you there are :  3\n"
     ]
    }
   ],
   "source": [
    "s = input(\"Enter the string\")\n",
    "n = len(s)\n",
    "cw=1\n",
    "for i in range(0,n):\n",
    "    if(s[i]==\" \" and s[i+1]!=\" \"):\n",
    "        cw+=1\n",
    "print(\"no of articles in\",s,\"are : \",cw)"
   ]
  },
  {
   "cell_type": "markdown",
   "metadata": {},
   "source": [
    "9. WAP to read a string and check if it has &quot;good&quot; in it"
   ]
  },
  {
   "cell_type": "code",
   "execution_count": 23,
   "metadata": {},
   "outputs": [
    {
     "name": "stdin",
     "output_type": "stream",
     "text": [
      "Enter the string we are good\n"
     ]
    },
    {
     "name": "stdout",
     "output_type": "stream",
     "text": [
      "good is present\n"
     ]
    }
   ],
   "source": [
    "import re\n",
    "s =input(\"Enter the string\")\n",
    "if(re.search(\"good\",s)):\n",
    "    print(\"good is present\")\n",
    "else:\n",
    "    print(\"not present\")"
   ]
  },
  {
   "cell_type": "code",
   "execution_count": null,
   "metadata": {},
   "outputs": [],
   "source": []
  }
 ],
 "metadata": {
  "kernelspec": {
   "display_name": "Python 3",
   "language": "python",
   "name": "python3"
  },
  "language_info": {
   "codemirror_mode": {
    "name": "ipython",
    "version": 3
   },
   "file_extension": ".py",
   "mimetype": "text/x-python",
   "name": "python",
   "nbconvert_exporter": "python",
   "pygments_lexer": "ipython3",
   "version": "3.8.3"
  }
 },
 "nbformat": 4,
 "nbformat_minor": 4
}
