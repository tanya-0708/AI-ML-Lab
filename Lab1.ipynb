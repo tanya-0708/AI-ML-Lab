{
 "cells": [
  {
   "cell_type": "markdown",
   "metadata": {},
   "source": [
    "Lab - 1\n",
    "\n"
   ]
  },
  {
   "cell_type": "markdown",
   "metadata": {},
   "source": [
    "1. WAP to check is a number is dibvisible by 5"
   ]
  },
  {
   "cell_type": "code",
   "execution_count": 1,
   "metadata": {},
   "outputs": [
    {
     "name": "stdin",
     "output_type": "stream",
     "text": [
      "Enter num 15\n"
     ]
    },
    {
     "name": "stdout",
     "output_type": "stream",
     "text": [
      "15 is divisible by 5\n"
     ]
    }
   ],
   "source": [
    "n = int(input(\"Enter num\"))\n",
    "if(n%5==0):\n",
    "    print(n,\"is divisible by 5\")\n",
    "else:\n",
    "    print(n,\"is not divisible by 5\")"
   ]
  },
  {
   "cell_type": "markdown",
   "metadata": {},
   "source": [
    "2. WAP to check is a number is even or odd"
   ]
  },
  {
   "cell_type": "code",
   "execution_count": 2,
   "metadata": {},
   "outputs": [
    {
     "name": "stdin",
     "output_type": "stream",
     "text": [
      "Enter num 14\n"
     ]
    },
    {
     "name": "stdout",
     "output_type": "stream",
     "text": [
      "14 is even\n"
     ]
    }
   ],
   "source": [
    "n = int(input(\"Enter num\"))\n",
    "if(n%2==0):\n",
    "    print(n,\"is even\")\n",
    "else:\n",
    "    print(n,\"is odd\")"
   ]
  },
  {
   "cell_type": "markdown",
   "metadata": {},
   "source": [
    "3. WAP print the Electricity Bill\n",
    "Upto 200 - 0.5/unit\n",
    "201 - 500 - 1/unit for units consumed above 200\n",
    "501 - 1000 - 2.5/unit for units consumed above 500\n",
    "1001 - 1500 - 3.5/unit for units consumed above 1000\n",
    "1501 - 2500 - 5/unit for units consumed above 1500\n",
    "Above 2500 - 10/unit for units consumed above 2500"
   ]
  },
  {
   "cell_type": "code",
   "execution_count": 3,
   "metadata": {},
   "outputs": [
    {
     "name": "stdin",
     "output_type": "stream",
     "text": [
      "Enter units 1542\n"
     ]
    },
    {
     "name": "stdout",
     "output_type": "stream",
     "text": [
      "7710  Rupees\n"
     ]
    }
   ],
   "source": [
    "units = int(input(\"Enter units\"))\n",
    "\n",
    "if units<=100:\n",
    "    print(units*1,\" Rupees\")\n",
    "elif units>100 and units<=250:\n",
    "    print(units*1.25,\" Rupees\")\n",
    "elif units>260 and units<=600:\n",
    "    print(units*1.5,\" Rupees\")\n",
    "elif units>600 and units<=1000:\n",
    "    print(units*3,\" Rupees\")\n",
    "elif units>1000 and units<=1800:\n",
    "    print(units*5,\" Rupees\")\n",
    "else:\n",
    "    print(units*10,\" Rupees\")"
   ]
  },
  {
   "cell_type": "markdown",
   "metadata": {},
   "source": [
    "4. WAP to print grade of a student\n",
    "Less than 40 - NC\n",
    "40 - Less than 50 - D\n",
    "50 - Less than 60 - C\n",
    "60 - Less than 70 - B\n",
    "70 - Less than 80 - A\n",
    "80 and Above - O"
   ]
  },
  {
   "cell_type": "code",
   "execution_count": 4,
   "metadata": {},
   "outputs": [
    {
     "name": "stdin",
     "output_type": "stream",
     "text": [
      "Enter marks of student 71\n"
     ]
    },
    {
     "name": "stdout",
     "output_type": "stream",
     "text": [
      "Grade is A\n"
     ]
    }
   ],
   "source": [
    "marks = int(input(\"Enter marks of student\"))\n",
    "if(marks<40):\n",
    "    print(\"Not Cleared\")\n",
    "elif(marks>=40 and marks<50):\n",
    "    print(\"Grade is D\")\n",
    "elif(marks>=50 and marks<60):\n",
    "    print(\"Grade is C\")\n",
    "elif(marks>=60 and marks<70):\n",
    "    print(\"Grade is B\")\n",
    "elif(marks>=70 and marks<80):\n",
    "    print(\"Grade is A\")\n",
    "else:\n",
    "    print(\"Grade is O\")"
   ]
  },
  {
   "cell_type": "markdown",
   "metadata": {},
   "source": [
    "5. WAP to check if roots of a quatratic equation are real, real\n",
    "and equal or imaginary"
   ]
  },
  {
   "cell_type": "code",
   "execution_count": 5,
   "metadata": {},
   "outputs": [
    {
     "name": "stdin",
     "output_type": "stream",
     "text": [
      "Please Enter a Value of a Quadratic Equation :  7\n",
      "Please Enter b Value of a Quadratic Equation :  14\n",
      "Please Enter c Value of a Quadratic Equation :  28\n"
     ]
    },
    {
     "name": "stdout",
     "output_type": "stream",
     "text": [
      "Two Distinct Complex Roots Exists: root1 = -1.00+1.73 and root2 = -1.00-1.73\n"
     ]
    }
   ],
   "source": [
    "import math\n",
    "\n",
    "a = int(input(\"Please Enter a Value of a Quadratic Equation : \"))\n",
    "b = int(input(\"Please Enter b Value of a Quadratic Equation : \"))\n",
    "c = int(input(\"Please Enter c Value of a Quadratic Equation : \"))\n",
    "\n",
    "discriminant = (b * b) - (4 * a * c)\n",
    "\n",
    "if(discriminant > 0):\n",
    "    root1 = (-b + math.sqrt(discriminant) / (2 * a))\n",
    "    root2 = (-b - math.sqrt(discriminant) / (2 * a))\n",
    "    print(\"Two Distinct Real Roots Exists: root1 = %.2f and root2 = %.2f\" %(root1, root2))\n",
    "elif(discriminant == 0):\n",
    "    root1 = root2 = -b / (2 * a)\n",
    "    print(\"Two Equal and Real Roots Exists: root1 = %.2f and root2 = %.2f\" %(root1, root2))\n",
    "elif(discriminant < 0):\n",
    "    root1 = root2 = -b / (2 * a)\n",
    "    imaginary = math.sqrt(-discriminant) / (2 * a)\n",
    "    print(\"Two Distinct Complex Roots Exists: root1 = %.2f+%.2f and root2 = %.2f-%.2f\" %(root1, imaginary, root2, imaginary))"
   ]
  },
  {
   "cell_type": "code",
   "execution_count": null,
   "metadata": {},
   "outputs": [],
   "source": []
  }
 ],
 "metadata": {
  "kernelspec": {
   "display_name": "Python 3",
   "language": "python",
   "name": "python3"
  },
  "language_info": {
   "codemirror_mode": {
    "name": "ipython",
    "version": 3
   },
   "file_extension": ".py",
   "mimetype": "text/x-python",
   "name": "python",
   "nbconvert_exporter": "python",
   "pygments_lexer": "ipython3",
   "version": "3.8.3"
  }
 },
 "nbformat": 4,
 "nbformat_minor": 4
}
