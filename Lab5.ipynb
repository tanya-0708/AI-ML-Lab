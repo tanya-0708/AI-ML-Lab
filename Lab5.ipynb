{
 "cells": [
  {
   "cell_type": "code",
   "execution_count": 50,
   "metadata": {},
   "outputs": [],
   "source": [
    "def fun(f):\n",
    "    r=1\n",
    "    for i in range(1,f+1):\n",
    "        r=r*i\n",
    "    return r"
   ]
  },
  {
   "cell_type": "code",
   "execution_count": 51,
   "metadata": {},
   "outputs": [
    {
     "name": "stdout",
     "output_type": "stream",
     "text": [
      "120\n"
     ]
    }
   ],
   "source": [
    "print(fun(5))"
   ]
  },
  {
   "cell_type": "code",
   "execution_count": 52,
   "metadata": {},
   "outputs": [],
   "source": [
    "def rfun(f):\n",
    "    if f==0:\n",
    "        return 1\n",
    "    else:\n",
    "        return(f*rfun(f-1))"
   ]
  },
  {
   "cell_type": "code",
   "execution_count": 4,
   "metadata": {},
   "outputs": [
    {
     "name": "stdout",
     "output_type": "stream",
     "text": [
      "120\n"
     ]
    }
   ],
   "source": [
    "print(rfun(5))"
   ]
  },
  {
   "cell_type": "code",
   "execution_count": 9,
   "metadata": {},
   "outputs": [],
   "source": [
    "def fab(a,b,n):\n",
    "    for i in range(n):\n",
    "        c=a+b\n",
    "        print(a,end=\" \")\n",
    "        a=b\n",
    "        b=c"
   ]
  },
  {
   "cell_type": "code",
   "execution_count": 10,
   "metadata": {},
   "outputs": [
    {
     "name": "stdout",
     "output_type": "stream",
     "text": [
      "0 1 1 2 3 5 8 13 21 34 "
     ]
    }
   ],
   "source": [
    "fab(0,1,10)"
   ]
  },
  {
   "cell_type": "code",
   "execution_count": 11,
   "metadata": {},
   "outputs": [],
   "source": [
    "def rfab(a,b,n):\n",
    "    if n>0:\n",
    "        print(a, end=\" \")\n",
    "        rfab(b,a+b,n-1)"
   ]
  },
  {
   "cell_type": "code",
   "execution_count": 12,
   "metadata": {},
   "outputs": [
    {
     "name": "stdout",
     "output_type": "stream",
     "text": [
      "0 1 1 2 3 5 8 13 21 34 "
     ]
    }
   ],
   "source": [
    "rfab(0,1,10)"
   ]
  },
  {
   "cell_type": "markdown",
   "metadata": {},
   "source": [
    "# Lab 5\n",
    "1. Write a function in python to find max of three numbers\n",
    "2. Write a function in python to sum all the numbers in a list\n",
    "3. Write a function in python to multiply all the numbrers in a list\n",
    "4. Write a function in python to reverse a string\n",
    "5. Write a function in python that takes a list and returns a new list with unique elements of the first list\n",
    "6. Write a function in python that checks whether a passed string is palindrome or not\n",
    "7. Write a function in python to access a function inside a function\n",
    "8. Write a function in python to generate even series upto the nth term\n",
    "9. Write a function in python to check if a number is prime or not\n",
    "10. Write a function in python to generate prime series between range inputted by a user.\n",
    "11. Write a recursive function in python to sum all the numbers in a list\n",
    "12. Write a recursive function in python to multiply all the numbrers in a list\n",
    "13. Write a recursive function in python to reverse a string\n",
    "14. Write a recursive function in python that takes a list and returns a new list with unique elements of the first list\n",
    "15. Write a recursive function in python that checks whether a passed string is palindrome or not\n",
    "16. Write a recursive function in python to generate even series upto the nth term\n",
    "17. Write a recursive function in python to check if a number is prime or not\n",
    "18. Write a recursive function in python to generate prime series between range inputted by a user."
   ]
  },
  {
   "cell_type": "code",
   "execution_count": 2,
   "metadata": {},
   "outputs": [
    {
     "name": "stdout",
     "output_type": "stream",
     "text": [
      "4\n",
      "5\n",
      "6\n",
      "6\n"
     ]
    }
   ],
   "source": [
    "def maxthree(a,b,c):\n",
    "    if a>b:\n",
    "        if a>c:\n",
    "            print(a)\n",
    "        else:\n",
    "            print(c)\n",
    "    elif b>a:\n",
    "        if b>c:\n",
    "            print(b)\n",
    "        else:\n",
    "            print(c)\n",
    "    elif c>a:\n",
    "        if c>b:\n",
    "            print(c)\n",
    "        else:\n",
    "            print(b)\n",
    "        \n",
    "maxthree(int(input()),int(input()),int(input()))"
   ]
  },
  {
   "cell_type": "code",
   "execution_count": 5,
   "metadata": {},
   "outputs": [
    {
     "name": "stdout",
     "output_type": "stream",
     "text": [
      "334\n"
     ]
    }
   ],
   "source": [
    "k=[1,2,3,4,5,77,88,99,10,45]\n",
    "\n",
    "def sumList(k):\n",
    "    sum=0\n",
    "    for i in k:\n",
    "        sum+=i\n",
    "    return sum\n",
    "\n",
    "print(sumList(k))"
   ]
  },
  {
   "cell_type": "code",
   "execution_count": 7,
   "metadata": {},
   "outputs": [
    {
     "name": "stdout",
     "output_type": "stream",
     "text": [
      "36224496000\n"
     ]
    }
   ],
   "source": [
    "\n",
    "def prodList(k):\n",
    "    prod=1\n",
    "    for i in k:\n",
    "        prod*=i\n",
    "    return prod\n",
    "\n",
    "k=[1,2,3,4,5,77,88,99,10,45]\n",
    "\n",
    "print(prodList(k))"
   ]
  },
  {
   "cell_type": "code",
   "execution_count": 15,
   "metadata": {},
   "outputs": [
    {
     "name": "stdout",
     "output_type": "stream",
     "text": [
      "Pritha\n",
      "ahtirP\n"
     ]
    }
   ],
   "source": [
    "\n",
    "def revString(k):\n",
    "    j = k[::-1]\n",
    "    return j\n",
    "\n",
    "\n",
    "print(revString(input()))"
   ]
  },
  {
   "cell_type": "code",
   "execution_count": 18,
   "metadata": {},
   "outputs": [
    {
     "name": "stdout",
     "output_type": "stream",
     "text": [
      "[1, 2, 3, 4, 5, 6, 90000, 54, 0, 64]\n"
     ]
    }
   ],
   "source": [
    "def sortUnique(k):\n",
    "    uni_list=[]\n",
    "    \n",
    "    for x in k:\n",
    "        \n",
    "        if x not in uni_list:\n",
    "            \n",
    "            uni_list.append(x)\n",
    "    return uni_list\n",
    "    \n",
    "\n",
    "print(sortUnique([1,2,3,4,5,6,90000,6,54,0,0,0,0,64,3,2]))"
   ]
  },
  {
   "cell_type": "code",
   "execution_count": 25,
   "metadata": {},
   "outputs": [
    {
     "name": "stdout",
     "output_type": "stream",
     "text": [
      "naman\n",
      "True\n"
     ]
    }
   ],
   "source": [
    "def checkPallindrome(k):\n",
    "    \n",
    "    i = 0\n",
    "    j = len(k)-1\n",
    "    \n",
    "    \n",
    "    while i<=j:\n",
    "        \n",
    "        if k[i]!=k[j]:\n",
    "            return False\n",
    "        i+=1\n",
    "        j-=1\n",
    "    return True\n",
    "\n",
    "print(checkPallindrome(input()))"
   ]
  },
  {
   "cell_type": "code",
   "execution_count": 27,
   "metadata": {},
   "outputs": [
    {
     "name": "stdout",
     "output_type": "stream",
     "text": [
      "45\n",
      "119622220865480194561963161495657715064383733760000000000\n"
     ]
    }
   ],
   "source": [
    "def rfact(n):\n",
    "    \n",
    "    if n==0: \n",
    "        return 1\n",
    "    return n*rfact(n-1)\n",
    "\n",
    "print(rfact(int(input())))"
   ]
  },
  {
   "cell_type": "code",
   "execution_count": 29,
   "metadata": {},
   "outputs": [
    {
     "name": "stdout",
     "output_type": "stream",
     "text": [
      "0\n",
      "2\n",
      "4\n",
      "6\n",
      "8\n",
      "10\n",
      "12\n",
      "14\n",
      "16\n",
      "18\n",
      "20\n",
      "22\n",
      "24\n",
      "26\n",
      "28\n",
      "30\n",
      "32\n",
      "34\n",
      "36\n",
      "38\n",
      "40\n",
      "42\n",
      "44\n",
      "46\n",
      "48\n",
      "50\n",
      "52\n",
      "54\n",
      "56\n",
      "58\n",
      "60\n",
      "62\n",
      "64\n",
      "66\n",
      "68\n",
      "70\n",
      "72\n",
      "74\n",
      "76\n",
      "78\n",
      "80\n",
      "82\n",
      "84\n",
      "86\n",
      "88\n"
     ]
    }
   ],
   "source": [
    "def evenSeries(n):\n",
    "    \n",
    "    for i in range(n):\n",
    "        if i%2==0:\n",
    "            print(i)\n",
    "\n",
    "evenSeries(90)"
   ]
  },
  {
   "cell_type": "code",
   "execution_count": 30,
   "metadata": {},
   "outputs": [
    {
     "name": "stdout",
     "output_type": "stream",
     "text": [
      "56\n",
      "Not a Prime\n"
     ]
    }
   ],
   "source": [
    "def prime(n):\n",
    "    for i in range(2,n//2):\n",
    "        if n%i==0:\n",
    "            print(\"Not a Prime\")\n",
    "            break\n",
    "    else:\n",
    "        print(\"A prime\")\n",
    "        \n",
    "n = int(input())\n",
    "prime(n)"
   ]
  },
  {
   "cell_type": "code",
   "execution_count": 32,
   "metadata": {},
   "outputs": [
    {
     "name": "stdout",
     "output_type": "stream",
     "text": [
      "67\n",
      "71\n",
      "73\n",
      "79\n",
      "83\n",
      "89\n"
     ]
    }
   ],
   "source": [
    "def primeSeries(l,n):\n",
    "    for i in range(l,n):\n",
    "        for j in range(2,i//2):\n",
    "            if i%j==0:\n",
    "                break\n",
    "        else:\n",
    "            print(i)\n",
    "            \n",
    "primeSeries(67,90)\n",
    "        \n",
    "    "
   ]
  },
  {
   "cell_type": "markdown",
   "metadata": {},
   "source": [
    "10. Write a function in python to generate prime series between range inputted by a user.\n",
    "11. Write a recursive function in python to sum all the numbers in a list\n",
    "12. Write a recursive function in python to multiply all the numbrers in a list\n",
    "13. Write a recursive function in python to reverse a string\n",
    "14. Write a recursive function in python that takes a list and returns a new list with unique elements of the first list\n",
    "15. Write a recursive function in python that checks whether a passed string is palindrome or not\n",
    "16. Write a recursive function in python to generate even series upto the nth term\n",
    "17. Write a recursive function in python to check if a number is prime or not\n",
    "18. Write a recursive function in python to generate prime series between range inputted by a user."
   ]
  },
  {
   "cell_type": "code",
   "execution_count": 33,
   "metadata": {},
   "outputs": [
    {
     "name": "stdout",
     "output_type": "stream",
     "text": [
      "334\n"
     ]
    }
   ],
   "source": [
    "k=[1,2,3,4,5,77,88,99,10,45]\n",
    "\n",
    "def rsumList(k):\n",
    "    \n",
    "    if len(k)==0:\n",
    "        return 0\n",
    "    return k[0] + rsumList(k[1:])\n",
    "\n",
    "print(sumList(k))"
   ]
  },
  {
   "cell_type": "code",
   "execution_count": 35,
   "metadata": {},
   "outputs": [
    {
     "name": "stdout",
     "output_type": "stream",
     "text": [
      "36224496000\n"
     ]
    }
   ],
   "source": [
    "k=[1,2,3,4,5,77,88,99,10,45]\n",
    "\n",
    "def rprodList(k):\n",
    "    \n",
    "    if len(k)==0:\n",
    "        return 1\n",
    "    return k[0] * rsumList(k[1:])\n",
    "\n",
    "print(rprodList(k))"
   ]
  },
  {
   "cell_type": "code",
   "execution_count": 37,
   "metadata": {},
   "outputs": [
    {
     "name": "stdout",
     "output_type": "stream",
     "text": [
      "jijikikilo\n",
      "olikikijij\n"
     ]
    }
   ],
   "source": [
    "def rRev(k):\n",
    "    \n",
    "    if len(k)==0:\n",
    "        return ''\n",
    "    return rRev(k[1:])+k[0]\n",
    "l=input()\n",
    "print(rRev(l))"
   ]
  },
  {
   "cell_type": "code",
   "execution_count": 41,
   "metadata": {},
   "outputs": [
    {
     "name": "stdout",
     "output_type": "stream",
     "text": [
      "[1, 2, 3, 44, 5, 6, 88, 8, 10]\n"
     ]
    }
   ],
   "source": [
    "\n",
    "h=[]\n",
    "def rUni(k):\n",
    "    \n",
    "    if len(k)==0:\n",
    "        return\n",
    "    if k[0] not in h:\n",
    "        h.append(k[0])\n",
    "    rUni(k[1:])\n",
    "\n",
    "l = [1,2,3,44,5,5,5,5,5,5,5,5,5,5,6,6,6,6,6,6,6,6,88,8,8,8,8,8,10]\n",
    "rUni(l)\n",
    "\n",
    "print(h)"
   ]
  },
  {
   "cell_type": "code",
   "execution_count": 42,
   "metadata": {},
   "outputs": [
    {
     "name": "stdout",
     "output_type": "stream",
     "text": [
      "naman\n",
      "True\n"
     ]
    }
   ],
   "source": [
    "def isPalRec(st, s, e) : \n",
    "       \n",
    "    if (s == e): \n",
    "        return True\n",
    "  \n",
    "    if (st[s] != st[e]) : \n",
    "        return False\n",
    "  \n",
    "    if (s < e + 1) : \n",
    "        return isPalRec(st, s + 1, e - 1); \n",
    "  \n",
    "    return True\n",
    "\n",
    "n =input()\n",
    "\n",
    "print(isPalRec(n,0,len(n)-1))"
   ]
  },
  {
   "cell_type": "code",
   "execution_count": 46,
   "metadata": {},
   "outputs": [
    {
     "name": "stdout",
     "output_type": "stream",
     "text": [
      "2\n",
      "4\n",
      "6\n",
      "8\n",
      "10\n",
      "12\n",
      "14\n",
      "16\n",
      "18\n",
      "20\n",
      "22\n",
      "24\n",
      "26\n",
      "28\n",
      "30\n",
      "32\n",
      "34\n",
      "36\n",
      "38\n",
      "40\n",
      "42\n",
      "44\n",
      "46\n",
      "48\n",
      "50\n",
      "52\n",
      "54\n",
      "56\n",
      "58\n",
      "60\n",
      "62\n",
      "64\n",
      "66\n",
      "68\n",
      "70\n",
      "72\n",
      "74\n",
      "76\n",
      "78\n",
      "80\n",
      "82\n",
      "84\n",
      "86\n",
      "88\n",
      "90\n"
     ]
    }
   ],
   "source": [
    "def rgenerate(l,i):\n",
    "    if(i>l):\n",
    "        return\n",
    "    print(i)\n",
    "    rgenerate(l,i+2)\n",
    "\n",
    "\n",
    "rgenerate(90,2)"
   ]
  },
  {
   "cell_type": "code",
   "execution_count": 48,
   "metadata": {},
   "outputs": [
    {
     "name": "stdout",
     "output_type": "stream",
     "text": [
      "90\n",
      "False\n"
     ]
    }
   ],
   "source": [
    "def isPrime(n, i = 2): \n",
    "  \n",
    "    if (n <= 2): \n",
    "        return True if(n == 2) else False\n",
    "    if (n % i == 0): \n",
    "        return False\n",
    "    if (i * i > n): \n",
    "        return True \n",
    "  \n",
    "    return isPrime(n, i + 1) \n",
    "\n",
    "i = int(input())\n",
    "print(isPrime(i))"
   ]
  },
  {
   "cell_type": "code",
   "execution_count": 49,
   "metadata": {},
   "outputs": [
    {
     "name": "stdout",
     "output_type": "stream",
     "text": [
      "3\n",
      "900\n",
      "3\n",
      "5\n",
      "7\n",
      "11\n",
      "13\n",
      "17\n",
      "19\n",
      "23\n",
      "29\n",
      "31\n",
      "37\n",
      "41\n",
      "43\n",
      "47\n",
      "53\n",
      "59\n",
      "61\n",
      "67\n",
      "71\n",
      "73\n",
      "79\n",
      "83\n",
      "89\n",
      "97\n",
      "101\n",
      "103\n",
      "107\n",
      "109\n",
      "113\n",
      "127\n",
      "131\n",
      "137\n",
      "139\n",
      "149\n",
      "151\n",
      "157\n",
      "163\n",
      "167\n",
      "173\n",
      "179\n",
      "181\n",
      "191\n",
      "193\n",
      "197\n",
      "199\n",
      "211\n",
      "223\n",
      "227\n",
      "229\n",
      "233\n",
      "239\n",
      "241\n",
      "251\n",
      "257\n",
      "263\n",
      "269\n",
      "271\n",
      "277\n",
      "281\n",
      "283\n",
      "293\n",
      "307\n",
      "311\n",
      "313\n",
      "317\n",
      "331\n",
      "337\n",
      "347\n",
      "349\n",
      "353\n",
      "359\n",
      "367\n",
      "373\n",
      "379\n",
      "383\n",
      "389\n",
      "397\n",
      "401\n",
      "409\n",
      "419\n",
      "421\n",
      "431\n",
      "433\n",
      "439\n",
      "443\n",
      "449\n",
      "457\n",
      "461\n",
      "463\n",
      "467\n",
      "479\n",
      "487\n",
      "491\n",
      "499\n",
      "503\n",
      "509\n",
      "521\n",
      "523\n",
      "541\n",
      "547\n",
      "557\n",
      "563\n",
      "569\n",
      "571\n",
      "577\n",
      "587\n",
      "593\n",
      "599\n",
      "601\n",
      "607\n",
      "613\n",
      "617\n",
      "619\n",
      "631\n",
      "641\n",
      "643\n",
      "647\n",
      "653\n",
      "659\n",
      "661\n",
      "673\n",
      "677\n",
      "683\n",
      "691\n",
      "701\n",
      "709\n",
      "719\n",
      "727\n",
      "733\n",
      "739\n",
      "743\n",
      "751\n",
      "757\n",
      "761\n",
      "769\n",
      "773\n",
      "787\n",
      "797\n",
      "809\n",
      "811\n",
      "821\n",
      "823\n",
      "827\n",
      "829\n",
      "839\n",
      "853\n",
      "857\n",
      "859\n",
      "863\n",
      "877\n",
      "881\n",
      "883\n",
      "887\n"
     ]
    }
   ],
   "source": [
    "def isPrime(n, i = 2): \n",
    "  \n",
    "    if (n <= 2): \n",
    "        return True if(n == 2) else False\n",
    "    if (n % i == 0): \n",
    "        return False\n",
    "    if (i * i > n): \n",
    "        return True \n",
    "  \n",
    "    return isPrime(n, i + 1) \n",
    "\n",
    "l = int(input())\n",
    "u = int(input())\n",
    "\n",
    "\n",
    "for i in range(l,u):\n",
    "    if(isPrime(i)):\n",
    "        print(i, end=\" \")\n"
   ]
  },
  {
   "cell_type": "code",
   "execution_count": null,
   "metadata": {},
   "outputs": [],
   "source": []
  }
 ],
 "metadata": {
  "kernelspec": {
   "display_name": "Python 3",
   "language": "python",
   "name": "python3"
  },
  "language_info": {
   "codemirror_mode": {
    "name": "ipython",
    "version": 3
   },
   "file_extension": ".py",
   "mimetype": "text/x-python",
   "name": "python",
   "nbconvert_exporter": "python",
   "pygments_lexer": "ipython3",
   "version": "3.8.3"
  }
 },
 "nbformat": 4,
 "nbformat_minor": 4
}
